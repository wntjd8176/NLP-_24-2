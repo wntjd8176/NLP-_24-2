{
 "cells": [
  {
   "cell_type": "code",
   "execution_count": 1,
   "id": "5f771753",
   "metadata": {},
   "outputs": [],
   "source": [
    "import kss\n",
    "import re"
   ]
  },
  {
   "cell_type": "code",
   "execution_count": 8,
   "id": "4626b428",
   "metadata": {},
   "outputs": [
    {
     "name": "stdout",
     "output_type": "stream",
     "text": [
      "필터링된 문장:\n",
      "['1980년대 민주화 운동이 있었습니다.', '많은 사람들이 참여했습니다.', '학생운동이 큰 역할을 했습니다.', '이러한 과정을 통해 민주주의가 발전했습니다.']\n"
     ]
    }
   ],
   "source": [
    "def split_and_filter_sentences(text):\n",
    "    \"\"\"\n",
    "    텍스트를 KSS와 추가 기준으로 분리하고, 의미 없는 연결어를 제거\n",
    "    \"\"\"\n",
    "    # KSS로 1차 분리\n",
    "    sentences = kss.split_sentences(text)\n",
    "    \n",
    "    # 추가 기준 적용 ('그리고', '또', ',' 기준으로 분리)\n",
    "    split_sentences = []\n",
    "    for sentence in sentences:\n",
    "        parts = re.split(r'(그리고|또|,)', sentence)\n",
    "        parts = [p.strip() for p in parts if p.strip()]  # 공백 제거 및 빈 문자열 제거\n",
    "        split_sentences.extend(parts)\n",
    "    \n",
    "    # 불필요한 연결어 필터링\n",
    "    filtered_sentences = [s for s in split_sentences if s not in [\"그리고\", \"또\", \",\"]]\n",
    "    \n",
    "    return filtered_sentences\n",
    "\n",
    "\n",
    "\n",
    "# 테스트 입력\n",
    "text = \"1980년대 민주화 운동이 있었습니다. 그리고 많은 사람들이 참여했습니다. 또, 학생운동이 큰 역할을 했습니다. 이러한 과정을 통해 민주주의가 발전했습니다.\"\n",
    "\n",
    "# 문장 분리 및 필터링\n",
    "filtered_sentences = split_and_filter_sentences(text)\n",
    "print(\"필터링된 문장:\")\n",
    "print(filtered_sentences)\n",
    "\n",
    "#11/30 이거 평균임베딩 해서 벡터값으로 유사도 비교해야함 그리고 nli검증은 그냥 하자 어쩔 수 없음\n"
   ]
  }
 ],
 "metadata": {
  "kernelspec": {
   "display_name": "Python 3 (ipykernel)",
   "language": "python",
   "name": "python3"
  },
  "language_info": {
   "codemirror_mode": {
    "name": "ipython",
    "version": 3
   },
   "file_extension": ".py",
   "mimetype": "text/x-python",
   "name": "python",
   "nbconvert_exporter": "python",
   "pygments_lexer": "ipython3",
   "version": "3.8.10"
  }
 },
 "nbformat": 4,
 "nbformat_minor": 5
}
