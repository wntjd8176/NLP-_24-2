{
 "cells": [
  {
   "cell_type": "code",
   "execution_count": 6,
   "id": "d023fc60",
   "metadata": {},
   "outputs": [
    {
     "ename": "ImportError",
     "evalue": "cannot import name 'preprocess_text' from 'preProcessing' (preProcessing.ipynb)",
     "output_type": "error",
     "traceback": [
      "\u001b[0;31m---------------------------------------------------------------------------\u001b[0m",
      "\u001b[0;31mImportError\u001b[0m                               Traceback (most recent call last)",
      "Cell \u001b[0;32mIn [6], line 3\u001b[0m\n\u001b[1;32m      1\u001b[0m \u001b[38;5;28;01mimport\u001b[39;00m \u001b[38;5;21;01mpandas\u001b[39;00m \u001b[38;5;28;01mas\u001b[39;00m \u001b[38;5;21;01mpd\u001b[39;00m\n\u001b[1;32m      2\u001b[0m \u001b[38;5;28;01mimport\u001b[39;00m \u001b[38;5;21;01mnbimporter\u001b[39;00m\n\u001b[0;32m----> 3\u001b[0m \u001b[38;5;28;01mfrom\u001b[39;00m \u001b[38;5;21;01mpreProcessing\u001b[39;00m \u001b[38;5;28;01mimport\u001b[39;00m preprocess_text\n",
      "\u001b[0;31mImportError\u001b[0m: cannot import name 'preprocess_text' from 'preProcessing' (preProcessing.ipynb)"
     ]
    }
   ],
   "source": [
    "import pandas as pd\n",
    "import nbimporter\n",
    "from preProcessing import preprocess_text "
   ]
  },
  {
   "cell_type": "code",
   "execution_count": 2,
   "id": "6b0e15ed",
   "metadata": {},
   "outputs": [
    {
     "name": "stdout",
     "output_type": "stream",
     "text": [
      "Collecting nbimporter\n",
      "  Downloading nbimporter-0.3.4-py3-none-any.whl (4.9 kB)\n",
      "Installing collected packages: nbimporter\n",
      "Successfully installed nbimporter-0.3.4\n",
      "Note: you may need to restart the kernel to use updated packages.\n"
     ]
    }
   ],
   "source": [
    "pip install nbimporter"
   ]
  },
  {
   "cell_type": "code",
   "execution_count": null,
   "id": "2db20776",
   "metadata": {},
   "outputs": [],
   "source": [
    "# 데이터 입력\n",
    "book_data = [\n",
    "    {\"제목\": \"책 제목 1\", \"작가\": \"작가 이름 1\", \"내용\": \"이 책은 ...에 대한 내용입니다.\"},\n",
    "    {\"제목\": \"책 제목 2\", \"작가\": \"작가 이름 2\", \"내용\": \"다른 주제를 다룬 책입니다.\"},\n",
    "    {\"제목\": \"책 제목 3\", \"작가\": \"작가 이름 3\", \"내용\": \"흥미로운 이야기가 담긴 책입니다.\"}\n",
    "]\n",
    "\n",
    "# DataFrame 생성\n",
    "df = pd.DataFrame(book_data)\n",
    "\n",
    "# CSV 파일로 저장\n",
    "csv_file = \"books.csv\"\n",
    "df.to_csv(csv_file, index=False, encoding=\"utf-8-sig\")\n",
    "\n",
    "print(f\"CSV 파일 생성 완료: {csv_file}\")"
   ]
  }
 ],
 "metadata": {
  "kernelspec": {
   "display_name": "Python 3 (ipykernel)",
   "language": "python",
   "name": "python3"
  },
  "language_info": {
   "codemirror_mode": {
    "name": "ipython",
    "version": 3
   },
   "file_extension": ".py",
   "mimetype": "text/x-python",
   "name": "python",
   "nbconvert_exporter": "python",
   "pygments_lexer": "ipython3",
   "version": "3.8.10"
  }
 },
 "nbformat": 4,
 "nbformat_minor": 5
}
