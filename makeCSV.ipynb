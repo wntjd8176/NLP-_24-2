{
 "cells": [
  {
   "cell_type": "code",
   "execution_count": 3,
   "id": "e51fe788",
   "metadata": {},
   "outputs": [],
   "source": [
    "import pandas as pd\n",
    "import json\n",
    "import os"
   ]
  },
  {
   "cell_type": "code",
   "execution_count": 4,
   "id": "a417a27d",
   "metadata": {},
   "outputs": [],
   "source": [
    "# JSON 파일에서 제목, 작가, 요약 데이터 추출\n",
    "def extract_title_author_summary(json_data):\n",
    "    extracted_data = []\n",
    "    for entry in json_data:\n",
    "        title = entry['metadata']['doc_name']\n",
    "        author = entry['metadata']['author']\n",
    "        summary = entry['summary']\n",
    "        extracted_data.append({\"첵제목\": title, \"작가명\": author, \"내용요약\": summary})\n",
    "    return extracted_data"
   ]
  },
  {
   "cell_type": "code",
   "execution_count": 5,
   "id": "f1d30589",
   "metadata": {},
   "outputs": [],
   "source": [
    "def process_json_files(directory, output_csv):\n",
    "    all_extracted_data = []\n",
    "\n",
    "    # 디렉토리 내 모든 JSON 파일 처리\n",
    "    for file_name in os.listdir(directory):\n",
    "        if file_name.endswith(\".json\"):\n",
    "            file_path = os.path.join(directory, file_name)\n",
    "            with open(file_path, \"r\", encoding=\"utf-8\") as f:\n",
    "                json_data = json.load(f)\n",
    "                extracted_data = extract_title_author_summary(json_data)\n",
    "                all_extracted_data.extend(extracted_data)\n",
    "\n",
    "    # DataFrame 생성 및 CSV 저장\n",
    "    df = pd.DataFrame(all_extracted_data)\n",
    "    df.to_csv(output_csv, index=False, encoding=\"utf-8-sig\")\n",
    "    print(f\"모든 JSON 파일에서 작가명, 첵제목, 내용요약 정보를 추출하여 {output_csv}에 저장하였습니다.\")\n",
    "\n",
    "# JSON 파일 디렉토리와 출력 CSV 파일 설정\n",
    "json_dir = \"/home/u4026/KoSentenceBERT_SKTBERT/bookSampleJson\" # JSON 파일들이 저장된 디렉터리 경로\n",
    "output_csv = \"books_summary.csv\""
   ]
  },
  {
   "cell_type": "code",
   "execution_count": 6,
   "id": "296281e1",
   "metadata": {},
   "outputs": [
    {
     "ename": "TypeError",
     "evalue": "string indices must be integers",
     "output_type": "error",
     "traceback": [
      "\u001b[0;31m---------------------------------------------------------------------------\u001b[0m",
      "\u001b[0;31mTypeError\u001b[0m                                 Traceback (most recent call last)",
      "Cell \u001b[0;32mIn [6], line 2\u001b[0m\n\u001b[1;32m      1\u001b[0m \u001b[38;5;66;03m# JSON 파일 처리 및 CSV 저장\u001b[39;00m\n\u001b[0;32m----> 2\u001b[0m \u001b[43mprocess_json_files\u001b[49m\u001b[43m(\u001b[49m\u001b[43mjson_dir\u001b[49m\u001b[43m,\u001b[49m\u001b[43m \u001b[49m\u001b[43moutput_csv\u001b[49m\u001b[43m)\u001b[49m\n",
      "Cell \u001b[0;32mIn [5], line 10\u001b[0m, in \u001b[0;36mprocess_json_files\u001b[0;34m(directory, output_csv)\u001b[0m\n\u001b[1;32m      8\u001b[0m         \u001b[38;5;28;01mwith\u001b[39;00m \u001b[38;5;28mopen\u001b[39m(file_path, \u001b[38;5;124m\"\u001b[39m\u001b[38;5;124mr\u001b[39m\u001b[38;5;124m\"\u001b[39m, encoding\u001b[38;5;241m=\u001b[39m\u001b[38;5;124m\"\u001b[39m\u001b[38;5;124mutf-8\u001b[39m\u001b[38;5;124m\"\u001b[39m) \u001b[38;5;28;01mas\u001b[39;00m f:\n\u001b[1;32m      9\u001b[0m             json_data \u001b[38;5;241m=\u001b[39m json\u001b[38;5;241m.\u001b[39mload(f)\n\u001b[0;32m---> 10\u001b[0m             extracted_data \u001b[38;5;241m=\u001b[39m \u001b[43mextract_title_author_summary\u001b[49m\u001b[43m(\u001b[49m\u001b[43mjson_data\u001b[49m\u001b[43m)\u001b[49m\n\u001b[1;32m     11\u001b[0m             all_extracted_data\u001b[38;5;241m.\u001b[39mextend(extracted_data)\n\u001b[1;32m     13\u001b[0m \u001b[38;5;66;03m# DataFrame 생성 및 CSV 저장\u001b[39;00m\n",
      "Cell \u001b[0;32mIn [4], line 5\u001b[0m, in \u001b[0;36mextract_title_author_summary\u001b[0;34m(json_data)\u001b[0m\n\u001b[1;32m      3\u001b[0m extracted_data \u001b[38;5;241m=\u001b[39m []\n\u001b[1;32m      4\u001b[0m \u001b[38;5;28;01mfor\u001b[39;00m entry \u001b[38;5;129;01min\u001b[39;00m json_data:\n\u001b[0;32m----> 5\u001b[0m     title \u001b[38;5;241m=\u001b[39m \u001b[43mentry\u001b[49m\u001b[43m[\u001b[49m\u001b[38;5;124;43m'\u001b[39;49m\u001b[38;5;124;43mmetadata\u001b[39;49m\u001b[38;5;124;43m'\u001b[39;49m\u001b[43m]\u001b[49m[\u001b[38;5;124m'\u001b[39m\u001b[38;5;124mdoc_name\u001b[39m\u001b[38;5;124m'\u001b[39m]\n\u001b[1;32m      6\u001b[0m     author \u001b[38;5;241m=\u001b[39m entry[\u001b[38;5;124m'\u001b[39m\u001b[38;5;124mmetadata\u001b[39m\u001b[38;5;124m'\u001b[39m][\u001b[38;5;124m'\u001b[39m\u001b[38;5;124mauthor\u001b[39m\u001b[38;5;124m'\u001b[39m]\n\u001b[1;32m      7\u001b[0m     summary \u001b[38;5;241m=\u001b[39m entry[\u001b[38;5;124m'\u001b[39m\u001b[38;5;124msummary\u001b[39m\u001b[38;5;124m'\u001b[39m]\n",
      "\u001b[0;31mTypeError\u001b[0m: string indices must be integers"
     ]
    }
   ],
   "source": [
    "# JSON 파일 처리 및 CSV 저장\n",
    "process_json_files(json_dir, output_csv)\n"
   ]
  },
  {
   "cell_type": "code",
   "execution_count": 8,
   "id": "9fb771ff",
   "metadata": {},
   "outputs": [
    {
     "name": "stdout",
     "output_type": "stream",
     "text": [
      "모든 JSON 파일에서 작가명, 첵제목, 내용요약 정보를 추출하여 books_summary.csv에 저장하였습니다.\n"
     ]
    }
   ],
   "source": [
    "def extract_title_author_summary(json_data):\n",
    "    extracted_data = []\n",
    "\n",
    "    # JSON 데이터가 리스트인지 확인\n",
    "    if isinstance(json_data, list):\n",
    "        for entry in json_data:\n",
    "            title = entry['metadata']['doc_name']\n",
    "            author = entry['metadata']['author']\n",
    "            summary = entry['summary']\n",
    "            extracted_data.append({\"첵제목\": title, \"작가명\": author, \"내용요약\": summary})\n",
    "    elif isinstance(json_data, dict):\n",
    "        title = json_data['metadata']['doc_name']\n",
    "        author = json_data['metadata']['author']\n",
    "        summary = json_data['summary']\n",
    "        extracted_data.append({\"첵제목\": title, \"작가명\": author, \"내용요약\": summary})\n",
    "    else:\n",
    "        raise TypeError(\"Unexpected JSON format. Must be a list or a dict.\")\n",
    "\n",
    "    return extracted_data\n",
    "\n",
    "def process_json_files(directory, output_csv):\n",
    "    all_extracted_data = []\n",
    "\n",
    "    # 디렉토리 내 모든 JSON 파일 처리\n",
    "    for file_name in os.listdir(directory):\n",
    "        if file_name.endswith(\".json\"):\n",
    "            file_path = os.path.join(directory, file_name)\n",
    "            with open(file_path, \"r\", encoding=\"utf-8\") as f:\n",
    "                json_data = json.load(f)\n",
    "                extracted_data = extract_title_author_summary(json_data)\n",
    "                all_extracted_data.extend(extracted_data)\n",
    "\n",
    "    # DataFrame 생성 및 CSV 저장\n",
    "    df = pd.DataFrame(all_extracted_data)\n",
    "    df.to_csv(output_csv, index=False, encoding=\"utf-8-sig\")\n",
    "    print(f\"모든 JSON 파일에서 작가명, 첵제목, 내용요약 정보를 추출하여 {output_csv}에 저장하였습니다.\")\n",
    "\n",
    "# JSON 파일 디렉토리와 출력 CSV 파일 설정\n",
    "json_dir = \"/home/u4026/KoSentenceBERT_SKTBERT/bookSampleJson\"  # JSON 파일들이 저장된 디렉터리 경로\n",
    "output_csv = \"books_summary.csv\"\n",
    "\n",
    "# JSON 파일 처리 및 CSV 저장\n",
    "process_json_files(json_dir, output_csv)"
   ]
  },
  {
   "cell_type": "code",
   "execution_count": 13,
   "id": "f1748c7e",
   "metadata": {},
   "outputs": [
    {
     "name": "stdout",
     "output_type": "stream",
     "text": [
      "첵제목 열의 일부 데이터:\n",
      "0     새 교육과정에 따른 평가기준의 개발이 필요해서, 한국교육과정평가원에서는 총론과 교과...\n",
      "1     특성화고 전체 취업률은 약 45%, 마이스터고는 약 82%, 폴리텍은 약 86%, ...\n",
      "2     잠재요인을 통한 설명변수의 분산 설명 정도 실험에 따르면 모형의 적합도는 잠재요인이...\n",
      "3     해외 수출 붐 등 효자 콘텐츠로서의 입지는 여전하다. <공룡의땅>과 <누들로드>는 ...\n",
      "4     신상정보 고지제도는 아동청소년 성폭력범죄에 한정하며, 예외를 두어 고지대상과 고지상...\n",
      "5     독일의 교육 및 직업 환경에서 중요한 부분을 차지하고 있는 이원화 교육제도는 직업종...\n",
      "6     인공지능의 활용은 의료계에서도 활발하게 일어나고 있는데 특히 IBM사에서 개발한 왓...\n",
      "7     형사절차에 따라 진술을 받아도 진정성이 없다면 신뢰가 없다고 볼 수 있기 때문에 진...\n",
      "8     교육부는 이미 체육 교육 과정에 야외교육 경험 프로그램을 도입하여 초중학교 학생들이...\n",
      "9     현대미술관 서울관은 필립 가렐의 작품들을 상영하고 설치작품으로 구성했는데, 이 작가...\n",
      "10    새끼 돼지들은 온도 차에 민감하고, 서열 정착으로 인한 스트레스를 받으며 사육 밀도...\n",
      "11    연구방법은 사례분석과 벤치마킹을 위한 문헌분석을 사용하였고, 교육훈련 플랫폼을 구성...\n",
      "12    계량소비자감시원은 주부와 직장인 등이며, 이들은 위반사항을 국가기술표준원과 합동 점...\n",
      "13    개인 맞춤형 치료제는 유전체 분석을 기반으로 환자에게 최적의 의약품을 처방하여 불필...\n",
      "14    현대인들은 수많은 위험에 노출되어 생활하고 있는데, 매슬로우에 따르면 안전에 대한 ...\n",
      "15    독일은 자동화로 인해 고용 총량이 감소되지는 않았으며, 국내 연구에서도 디지털화의 ...\n",
      "16    영국은 국가적인 평가제도가 없고 R%D 사업 평가는 각 펀딩 에이전시 재량에 맡기고...\n",
      "17    장애인을 고용한 사회적 기업 교남어유지동산은 기후 변동과  제품 유통 과정에 따라 ...\n",
      "18    비중리 삼존불상이 위치한 지점은 신라 진흥왕대의 북진로(北進路)로 추정되고, 6세기...\n",
      "19    우리나라는 청년실업이 구조화하면서 고용불황, 불평등, 불임사회의 '3불 사회'로 전...\n",
      "Name: 내용요약, dtype: object\n"
     ]
    }
   ],
   "source": [
    "# CSV 파일 읽기\n",
    "df = pd.read_csv(\"books_summary.csv\", encoding=\"utf-8-sig\")\n",
    "\n",
    "# 책 제목 열의 데이터 일부 출력\n",
    "print(\"첵제목 열의 일부 데이터:\")\n",
    "print(df[\"내용요약\"].head(20))  # 첫 10개의 데이터 출력"
   ]
  }
 ],
 "metadata": {
  "kernelspec": {
   "display_name": "Python 3 (ipykernel)",
   "language": "python",
   "name": "python3"
  },
  "language_info": {
   "codemirror_mode": {
    "name": "ipython",
    "version": 3
   },
   "file_extension": ".py",
   "mimetype": "text/x-python",
   "name": "python",
   "nbconvert_exporter": "python",
   "pygments_lexer": "ipython3",
   "version": "3.8.10"
  }
 },
 "nbformat": 4,
 "nbformat_minor": 5
}
